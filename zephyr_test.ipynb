{
 "cells": [
  {
   "cell_type": "code",
   "execution_count": 1,
   "metadata": {},
   "outputs": [
    {
     "name": "stderr",
     "output_type": "stream",
     "text": [
      "c:\\ProgramData\\anaconda3\\envs\\base1\\lib\\site-packages\\torchvision\\io\\image.py:13: UserWarning: Failed to load image Python extension: 'Could not find module 'C:\\ProgramData\\anaconda3\\envs\\base1\\lib\\site-packages\\torchvision\\image.pyd' (or one of its dependencies). Try using the full path with constructor syntax.'If you don't plan on using image functionality from `torchvision.io`, you can ignore this warning. Otherwise, there might be something wrong with your environment. Did you have `libjpeg` or `libpng` installed before building `torchvision` from source?\n",
      "  warn(\n",
      "c:\\ProgramData\\anaconda3\\envs\\base1\\lib\\site-packages\\pandas\\core\\arrays\\masked.py:60: UserWarning: Pandas requires version '1.3.6' or newer of 'bottleneck' (version '1.3.5' currently installed).\n",
      "  from pandas.core import (\n"
     ]
    }
   ],
   "source": [
    "import time\n",
    "import gc\n",
    "import os\n",
    "# import sys\n",
    "from optimum.onnxruntime import ORTModelForCausalLM\n",
    "from transformers import set_seed, AutoTokenizer, AutoModelForCausalLM, pipeline\n",
    "from pathlib import Path\n",
    "import torch\n",
    "import gc\n",
    "import gguf\n",
    "from smoothquant.smooth import smooth_lm\n",
    "from smoothquant.calibration import get_act_scales"
   ]
  },
  {
   "cell_type": "markdown",
   "metadata": {},
   "source": [
    "# Defining Paths"
   ]
  },
  {
   "cell_type": "code",
   "execution_count": 2,
   "metadata": {},
   "outputs": [],
   "source": [
    "# Paths\n",
    "HFPATH = \"HuggingFaceH4/zephyr-7b-beta\"\n",
    "MODELS = Path.cwd() / \"models\"\n",
    "zephyr_HF = MODELS / \"zephyr_HF\"\n",
    "zephyr_HF_onnx = MODELS / \"onnx\"\n",
    "QUANT_DATA_PATH = Path.cwd() / \"datasets\" / \"quant_data\" / \"val.jsonl\"\n",
    "VAIP_CONFIG = Path.cwd() / \"vaip_config_transformers.json\"\n",
    "# zephyr_gguf = Path.cwd() / \"models\" / \"zephyr-7b-beta.Q4_K_M.gguf\"\n",
    "\n",
    "for folder in [MODELS, zephyr_HF, zephyr_HF_onnx]:\n",
    "    folder.mkdir(exist_ok=True, parents=True)"
   ]
  },
  {
   "cell_type": "markdown",
   "metadata": {},
   "source": [
    "# Loading Models"
   ]
  },
  {
   "cell_type": "code",
   "execution_count": 3,
   "metadata": {},
   "outputs": [],
   "source": [
    "# # Zephyr GGUF\n",
    "# model_id = zephyr_gguf.parent\n",
    "# filename = zephyr_gguf.name\n",
    "# tokenizer = AutoTokenizer.from_pretrained(model_id, gguf_file=filename)\n",
    "# model = AutoModelForCausalLM.from_pretrained(model_id, gguf_file=filename)"
   ]
  },
  {
   "cell_type": "code",
   "execution_count": 4,
   "metadata": {},
   "outputs": [],
   "source": [
    "# Zephyr Model\n",
    "# model = AutoModelForCausalLM.from_pretrained(zephyr_HF)\n",
    "# model.save_pretrained(zephyr_HF) # Saving the model to folder\n"
   ]
  },
  {
   "cell_type": "code",
   "execution_count": 5,
   "metadata": {},
   "outputs": [],
   "source": [
    "# Tokenizers\n",
    "# tokenizer = AutoTokenizer.from_pretrained(HFPATH)\n",
    "# tokenizer = AutoTokenizer.from_pretrained(zephyr_HF / \"tokenizer\")\n",
    "# tokenizer.save_pretrained(zephyr_HF / \"tokenizer\") # Saving the tokenizer to folder"
   ]
  },
  {
   "cell_type": "code",
   "execution_count": 6,
   "metadata": {},
   "outputs": [],
   "source": [
    "# Inference with zephyr\n",
    "# zephyr_chat = pipeline(\"text-generation\", model=model, tokenizer=tokenizer, torch_dtype=torch.bfloat16, device_map=\"auto\")\n",
    "text_input = \"Give me a small funny story in 3 sentences.\"\n",
    "messages = [\n",
    "    {\n",
    "        \"role\": \"system\",\n",
    "        \"content\": \"You are a friendly AI companion who helps the user with tasks and also converses with them as a chatbot when required.\",\n",
    "    },\n",
    "    {\n",
    "        \"role\": \"user\",\n",
    "        \"content\": text_input,\n",
    "    },\n",
    "]\n",
    "# prompt = zephyr_chat.tokenizer.apply_chat_template(messages, tokenize=False, add_generation_prompt=True)\n",
    "# text_output = zephyr_chat(prompt, max_new_tokens=256, do_sample=True, temperature=0.7, top_k=50, top_p=0.95)\n",
    "# text_output[0][\"generated_text\"]\n",
    "# del zephyr_chat\n",
    "# gc.collect()"
   ]
  },
  {
   "cell_type": "markdown",
   "metadata": {},
   "source": [
    "# Performing Smooth Quantization"
   ]
  },
  {
   "cell_type": "code",
   "execution_count": 7,
   "metadata": {},
   "outputs": [],
   "source": [
    "# act_scales = get_act_scales(model, tokenizer, str(QUANT_DATA_PATH))\n",
    "# ortmodel = ORTModelForCausalLM.from_pretrained(HFPATH)"
   ]
  },
  {
   "cell_type": "markdown",
   "metadata": {},
   "source": [
    "# Loading ONNX model with VitisAI"
   ]
  },
  {
   "cell_type": "code",
   "execution_count": 8,
   "metadata": {},
   "outputs": [
    {
     "ename": "",
     "evalue": "",
     "output_type": "error",
     "traceback": [
      "\u001b[1;31mThe Kernel crashed while executing code in the current cell or a previous cell. \n",
      "\u001b[1;31mPlease review the code in the cell(s) to identify a possible cause of the failure. \n",
      "\u001b[1;31mClick <a href='https://aka.ms/vscodeJupyterKernelCrash'>here</a> for more info. \n",
      "\u001b[1;31mView Jupyter <a href='command:jupyter.viewOutput'>log</a> for further details."
     ]
    }
   ],
   "source": [
    "provider=\"VitisAIExecutionProvider\"\n",
    "provider_options = {\"config_file\": VAIP_CONFIG}\n",
    "tokenizer = AutoTokenizer.from_pretrained(HFPATH)\n",
    "model = ORTModelForCausalLM.from_pretrained(zephyr_HF_onnx, provider=provider, provider_options=provider_options)"
   ]
  },
  {
   "cell_type": "code",
   "execution_count": null,
   "metadata": {},
   "outputs": [],
   "source": [
    "# Inference with zephyr on ONNX\n",
    "zephyr_chat = pipeline(\"text-generation\", model=model, tokenizer=tokenizer, torch_dtype=torch.bfloat16, device_map=\"auto\")\n",
    "text_input = \"Give me a small funny story in 3 sentences.\"\n",
    "messages = [\n",
    "    {\n",
    "        \"role\": \"system\",\n",
    "        \"content\": \"You are a friendly AI companion who helps the user with tasks and also converses with them as a chatbot when required.\",\n",
    "    },\n",
    "    {\n",
    "        \"role\": \"user\",\n",
    "        \"content\": text_input,\n",
    "    },\n",
    "]\n",
    "prompt = zephyr_chat.tokenizer.apply_chat_template(messages, tokenize=False, add_generation_prompt=True)\n",
    "text_output = zephyr_chat(prompt, max_new_tokens=256, do_sample=True, temperature=0.7, top_k=50, top_p=0.95)\n",
    "text_output[0][\"generated_text\"]\n",
    "# del zephyr_chat\n",
    "# gc.collect()"
   ]
  }
 ],
 "metadata": {
  "kernelspec": {
   "display_name": "Python 3 (ipykernel)",
   "language": "python",
   "name": "python3"
  },
  "language_info": {
   "codemirror_mode": {
    "name": "ipython",
    "version": 3
   },
   "file_extension": ".py",
   "mimetype": "text/x-python",
   "name": "python",
   "nbconvert_exporter": "python",
   "pygments_lexer": "ipython3",
   "version": "3.10.12"
  }
 },
 "nbformat": 4,
 "nbformat_minor": 4
}
